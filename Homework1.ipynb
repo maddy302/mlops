{
 "cells": [
  {
   "cell_type": "markdown",
   "id": "c146dee5-1c41-4982-bfb3-bb509192cf4f",
   "metadata": {},
   "source": [
    "Homework1 - https://github.com/DataTalksClub/mlops-zoomcamp/blob/main/cohorts/2024/01-intro/homework.md\n",
    "\n",
    "The goal of this homework is to train a simple model for predicting the duration of a ride - similar to what we did in this module."
   ]
  },
  {
   "cell_type": "code",
   "execution_count": 1,
   "id": "7d6635c6-94c8-443c-8366-e5a99c2ab69d",
   "metadata": {},
   "outputs": [
    {
     "name": "stderr",
     "output_type": "stream",
     "text": [
      "/Users/madhukarbs/src/jupyter_notebooks/lib/python3.9/site-packages/urllib3/__init__.py:35: NotOpenSSLWarning: urllib3 v2 only supports OpenSSL 1.1.1+, currently the 'ssl' module is compiled with 'LibreSSL 3.3.6'. See: https://github.com/urllib3/urllib3/issues/3020\n",
      "  warnings.warn(\n"
     ]
    }
   ],
   "source": [
    "#all imports and constants\n",
    "import requests\n",
    "import pandas\n",
    "\n",
    "from sklearn.feature_extraction import DictVectorizer\n",
    "from sklearn.linear_model import LinearRegression\n",
    "from sklearn.metrics import root_mean_squared_error\n",
    "\n",
    "\n",
    "jan2023_data_set_url = \"https://d37ci6vzurychx.cloudfront.net/trip-data/yellow_tripdata_2023-01.parquet\"\n",
    "feb2023_data_set_url = \"https://d37ci6vzurychx.cloudfront.net/trip-data/yellow_tripdata_2023-02.parquet\""
   ]
  },
  {
   "cell_type": "code",
   "execution_count": 2,
   "id": "9ab65f7e-1f03-4865-8056-63b7da409487",
   "metadata": {},
   "outputs": [],
   "source": [
    "data_frame_jan = pandas.read_parquet(jan2023_data_set_url)\n",
    "data_frame_feb = pandas.read_parquet(feb2023_data_set_url)\n"
   ]
  },
  {
   "cell_type": "raw",
   "id": "671fa91c-0f21-4f7d-a4a0-84db55e9c8ec",
   "metadata": {},
   "source": [
    "Download the data for January and February 2023.\n",
    "\n",
    "Read the data for January. How many columns are there?\n",
    "\n",
    "16\n",
    "17\n",
    "18\n",
    "19"
   ]
  },
  {
   "cell_type": "code",
   "execution_count": 3,
   "id": "46b32624-21e7-4301-ad14-89e03aed7c13",
   "metadata": {},
   "outputs": [
    {
     "name": "stdout",
     "output_type": "stream",
     "text": [
      "No. of columns: 19\n"
     ]
    }
   ],
   "source": [
    "print(\"No. of columns: {}\".format(len(data_frame_jan.columns)))\n"
   ]
  },
  {
   "cell_type": "raw",
   "id": "bc88a4d1-1be8-4ce9-bd68-85d701fd707e",
   "metadata": {},
   "source": [
    "Q2. Computing duration\n",
    "Now let's compute the duration variable. It should contain the duration of a ride in minutes.\n",
    "\n",
    "What's the standard deviation of the trips duration in January?\n",
    "\n",
    "32.59\n",
    "42.59\n",
    "52.59\n",
    "62.59\n"
   ]
  },
  {
   "cell_type": "code",
   "execution_count": 4,
   "id": "05a7a08c-9e64-4f14-87da-2cb8f821a077",
   "metadata": {},
   "outputs": [
    {
     "name": "stdout",
     "output_type": "stream",
     "text": [
      "42.59435124195458\n"
     ]
    }
   ],
   "source": [
    "data_frame_jan.columns\n",
    "data_frame_jan[\"duration\"] = data_frame_jan[\"tpep_dropoff_datetime\"] - data_frame_jan[\"tpep_pickup_datetime\"]\n",
    "data_frame_jan.duration = data_frame_jan.duration.apply((lambda td: td.total_seconds() / 60))\n",
    "data_frame_feb.columns\n",
    "data_frame_feb[\"duration\"] = data_frame_feb[\"tpep_dropoff_datetime\"] - data_frame_feb[\"tpep_pickup_datetime\"]\n",
    "data_frame_feb.duration = data_frame_feb.duration.apply((lambda td: td.total_seconds() / 60))\n",
    "\n",
    "sd = data_frame_jan.duration.std()\n",
    "print(sd)\n"
   ]
  },
  {
   "cell_type": "raw",
   "id": "37668835-0d06-4d77-aaa4-ee30350116c2",
   "metadata": {},
   "source": [
    "Q3. Dropping outliers\n",
    "Next, we need to check the distribution of the duration variable. There are some outliers. Let's remove them and keep only the records where the duration was between 1 and 60 minutes (inclusive).\n",
    "\n",
    "What fraction of the records left after you dropped the outliers?\n",
    "\n",
    "90%\n",
    "92%\n",
    "95%\n",
    "98%"
   ]
  },
  {
   "cell_type": "code",
   "execution_count": 5,
   "id": "fdd789d0-60be-43f6-a854-a5c97ad11655",
   "metadata": {},
   "outputs": [],
   "source": [
    "og_length = data_frame_jan.size"
   ]
  },
  {
   "cell_type": "code",
   "execution_count": 6,
   "id": "3816f126-1da9-4e99-9e10-414cbe44253a",
   "metadata": {},
   "outputs": [
    {
     "name": "stdout",
     "output_type": "stream",
     "text": [
      "98.1220282212598%\n"
     ]
    }
   ],
   "source": [
    "# count=0\n",
    "# outliers=0\n",
    "# for r in data_frame_jan.duration:\n",
    "#     if r>=1 and r<=60:\n",
    "#         count+=1\n",
    "#     else:\n",
    "#         outliers+=1\n",
    "\n",
    "# print(count)\n",
    "# print(outliers)\n",
    "\n",
    "data_frame_jan = data_frame_jan[(data_frame_jan.duration >= 1) & (data_frame_jan.duration <= 60)]\n",
    "data_frame_feb = data_frame_feb[(data_frame_feb.duration >= 1) & (data_frame_feb.duration <= 60)]\n",
    "\n",
    "q3_answer = data_frame_jan.size*100/og_length\n",
    "print(\"{}%\".format(q3_answer))"
   ]
  },
  {
   "cell_type": "raw",
   "id": "7f7627a8-8597-4638-b878-78515d73c1fc",
   "metadata": {},
   "source": [
    "Q4. One-hot encoding\n",
    "Let's apply one-hot encoding to the pickup and dropoff location IDs. We'll use only these two features for our model.\n",
    "\n",
    "Turn the dataframe into a list of dictionaries (remember to re-cast the ids to strings - otherwise it will label encode them)\n",
    "Fit a dictionary vectorizer\n",
    "Get a feature matrix from it\n",
    "What's the dimensionality of this matrix (number of columns)?\n",
    "\n",
    "2\n",
    "155\n",
    "345\n",
    "515\n",
    "715"
   ]
  },
  {
   "cell_type": "code",
   "execution_count": 7,
   "id": "8a068920-47c3-444c-9d6c-9c901bd4273c",
   "metadata": {},
   "outputs": [],
   "source": [
    "categorical = [\"PULocationID\", \"DOLocationID\"]\n",
    "numerical = [\"trip_distance\"]"
   ]
  },
  {
   "cell_type": "code",
   "execution_count": 8,
   "id": "34e98ec2-33b6-40cc-b9b9-cf6bafa3501b",
   "metadata": {},
   "outputs": [],
   "source": [
    "data_frame_jan[categorical] = data_frame_jan[categorical].astype(str)\n",
    "data_frame_feb[categorical] = data_frame_feb[categorical].astype(str)"
   ]
  },
  {
   "cell_type": "code",
   "execution_count": 9,
   "id": "e30cd423-7c99-4a5b-acbc-3404333bc920",
   "metadata": {},
   "outputs": [],
   "source": [
    "train_dicts = data_frame_jan[categorical + numerical].to_dict(orient='records')\n",
    "train_dicts_feb = data_frame_feb[categorical + numerical].to_dict(orient='records')\n",
    "\n",
    "dv = DictVectorizer()\n",
    "X_train = dv.fit_transform(train_dicts)\n"
   ]
  },
  {
   "cell_type": "raw",
   "id": "ca47129b-27a1-49d8-bff4-1a05b8e93895",
   "metadata": {},
   "source": [
    "Q5. Training a model\n",
    "Now let's use the feature matrix from the previous step to train a model.\n",
    "\n",
    "Train a plain linear regression model with default parameters, where duration is the response variable\n",
    "Calculate the RMSE of the model on the training data\n",
    "What's the RMSE on train?\n",
    "\n",
    "3.64\n",
    "7.64\n",
    "11.64\n",
    "16.64"
   ]
  },
  {
   "cell_type": "code",
   "execution_count": 11,
   "id": "7066e61d-4049-4b3d-816d-4da07abf19c1",
   "metadata": {},
   "outputs": [
    {
     "data": {
      "text/plain": [
       "7.658406582175197"
      ]
     },
     "execution_count": 11,
     "metadata": {},
     "output_type": "execute_result"
    }
   ],
   "source": [
    "target = 'duration'\n",
    "y_train = data_frame_jan[target].values\n",
    "y_val = data_frame_jan[target].values\n",
    "lr = LinearRegression()\n",
    "lr.fit(X_train, y_train)\n",
    "\n",
    "y_pred = lr.predict(X_train)\n",
    "\n",
    "root_mean_squared_error(y_val, y_pred)\n"
   ]
  },
  {
   "cell_type": "raw",
   "id": "cdf7e260-38e3-4bf1-b507-33da6506b8c1",
   "metadata": {},
   "source": [
    "Now let's apply this model to the validation dataset (February 2023).\n",
    "\n",
    "What's the RMSE on validation?\n",
    "\n",
    "3.81\n",
    "7.81\n",
    "11.81\n",
    "16.81"
   ]
  },
  {
   "cell_type": "code",
   "execution_count": 12,
   "id": "c4d0c862-08a8-4ee3-ad99-cf757b166817",
   "metadata": {},
   "outputs": [],
   "source": [
    "# dv_feb = DictVectorizer()\n",
    "X_feb = dv.transform(train_dicts_feb)\n"
   ]
  },
  {
   "cell_type": "code",
   "execution_count": 14,
   "id": "091f38fe-7a62-461d-bcf0-b04f07cf2d52",
   "metadata": {},
   "outputs": [
    {
     "data": {
      "text/plain": [
       "7.820096870991671"
      ]
     },
     "execution_count": 14,
     "metadata": {},
     "output_type": "execute_result"
    }
   ],
   "source": [
    "y_val_feb = data_frame_feb[target].values\n",
    "y_pred_feb = lr.predict(X_feb)\n",
    "\n",
    "root_mean_squared_error(y_val_feb, y_pred_feb)\n"
   ]
  }
 ],
 "metadata": {
  "kernelspec": {
   "display_name": "Python 3 (ipykernel)",
   "language": "python",
   "name": "python3"
  },
  "language_info": {
   "codemirror_mode": {
    "name": "ipython",
    "version": 3
   },
   "file_extension": ".py",
   "mimetype": "text/x-python",
   "name": "python",
   "nbconvert_exporter": "python",
   "pygments_lexer": "ipython3",
   "version": "3.9.6"
  }
 },
 "nbformat": 4,
 "nbformat_minor": 5
}
